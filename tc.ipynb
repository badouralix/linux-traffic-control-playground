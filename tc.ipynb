{
 "cells": [
  {
   "attachments": {},
   "cell_type": "markdown",
   "metadata": {},
   "source": [
    "## Baseline\n",
    "\n",
    "Below is the baseline benchmark without shaping."
   ]
  },
  {
   "cell_type": "code",
   "execution_count": 1,
   "metadata": {
    "vscode": {
     "languageId": "shellscript"
    }
   },
   "outputs": [
    {
     "name": "stdout",
     "output_type": "stream",
     "text": [
      "Connecting to host 172.17.0.2, port 8080\n",
      "[  5] local 172.17.0.3 port 60964 connected to 172.17.0.2 port 8080\n",
      "[ ID] Interval           Transfer     Bitrate         Retr  Cwnd\n",
      "[  5]   0.00-1.00   sec  1.37 GBytes  11.8 Gbits/sec    0    639 KBytes       \n",
      "[  5]   1.00-2.00   sec  1.81 GBytes  15.5 Gbits/sec    0    639 KBytes       \n",
      "[  5]   2.00-3.00   sec  1.91 GBytes  16.4 Gbits/sec    0    639 KBytes       \n",
      "[  5]   3.00-4.00   sec  1.91 GBytes  16.4 Gbits/sec    0   7.49 MBytes       \n",
      "[  5]   4.00-5.00   sec  1.86 GBytes  16.0 Gbits/sec    0   7.49 MBytes       \n",
      "[  5]   5.00-6.00   sec  1.09 GBytes  9.40 Gbits/sec    0   7.49 MBytes       \n",
      "[  5]   6.00-7.00   sec  1.38 GBytes  11.9 Gbits/sec    0   7.49 MBytes       \n",
      "[  5]   7.00-8.00   sec  1.37 GBytes  11.8 Gbits/sec    0   7.49 MBytes       \n",
      "[  5]   8.00-9.00   sec  1.70 GBytes  14.6 Gbits/sec    0   7.49 MBytes       \n",
      "[  5]   9.00-10.00  sec  1.36 GBytes  11.7 Gbits/sec    0   7.49 MBytes       \n",
      "- - - - - - - - - - - - - - - - - - - - - - - - -\n",
      "[ ID] Interval           Transfer     Bitrate         Retr\n",
      "[  5]   0.00-10.00  sec  15.8 GBytes  13.6 Gbits/sec    0             sender\n",
      "[  5]   0.00-10.01  sec  15.8 GBytes  13.5 Gbits/sec                  receiver\n",
      "\n",
      "iperf Done.\n"
     ]
    }
   ],
   "source": [
    "iperf3 -c 172.17.0.2 -p 8080 -t 10"
   ]
  },
  {
   "attachments": {},
   "cell_type": "markdown",
   "metadata": {},
   "source": [
    "## Shaping\n",
    "\n",
    "Now we create the `qdisc`, `class` and `filter` as shown in <https://youtu.be/Ylf4J736JIg>."
   ]
  },
  {
   "cell_type": "code",
   "execution_count": 2,
   "metadata": {
    "vscode": {
     "languageId": "shellscript"
    }
   },
   "outputs": [
    {
     "name": "stdout",
     "output_type": "stream",
     "text": [
      "qdisc htb 1: root refcnt 2 r2q 10 default 0x30 direct_packets_stat 0 direct_qlen 1000\n"
     ]
    }
   ],
   "source": [
    "tc qdisc add dev eth0 root handle 1:0 htb default 30\n",
    "tc qdisc show dev eth0"
   ]
  },
  {
   "cell_type": "code",
   "execution_count": 3,
   "metadata": {
    "vscode": {
     "languageId": "shellscript"
    }
   },
   "outputs": [
    {
     "name": "stdout",
     "output_type": "stream",
     "text": [
      "class htb 1:1 root prio 0 rate 100Mbit ceil 100Mbit burst 1600b cburst 1600b \n"
     ]
    }
   ],
   "source": [
    "tc class add dev eth0 parent 1:0 classid 1:1 htb rate 100mbit\n",
    "tc class show dev eth0"
   ]
  },
  {
   "cell_type": "code",
   "execution_count": 4,
   "metadata": {
    "vscode": {
     "languageId": "shellscript"
    }
   },
   "outputs": [
    {
     "name": "stdout",
     "output_type": "stream",
     "text": [
      "filter parent 1: protocol ip pref 1 u32 chain 0 \n",
      "filter parent 1: protocol ip pref 1 u32 chain 0 fh 800: ht divisor 1 \n",
      "filter parent 1: protocol ip pref 1 u32 chain 0 fh 800::800 order 2048 key ht 800 bkt 0 flowid 1:1 not_in_hw \n",
      "  match ac100000/fff00000 at 16\n"
     ]
    }
   ],
   "source": [
    "tc filter add dev eth0 protocol ip parent 1:0 prio 1 u32 match ip dst 172.16.0.0/12 flowid 1:1\n",
    "tc filter show dev eth0"
   ]
  },
  {
   "cell_type": "code",
   "execution_count": 5,
   "metadata": {
    "vscode": {
     "languageId": "shellscript"
    }
   },
   "outputs": [
    {
     "name": "stdout",
     "output_type": "stream",
     "text": [
      "Connecting to host 172.17.0.2, port 8080\n",
      "[  5] local 172.17.0.3 port 46576 connected to 172.17.0.2 port 8080\n",
      "[ ID] Interval           Transfer     Bitrate         Retr  Cwnd\n",
      "[  5]   0.00-1.00   sec  14.9 MBytes   125 Mbits/sec    0   1.50 MBytes       \n",
      "[  5]   1.00-2.00   sec  11.2 MBytes  94.3 Mbits/sec    0   1.50 MBytes       \n",
      "[  5]   2.00-3.00   sec  11.2 MBytes  94.4 Mbits/sec    0   1.50 MBytes       \n",
      "[  5]   3.00-4.00   sec  11.2 MBytes  94.3 Mbits/sec    0   1.50 MBytes       \n",
      "[  5]   4.00-5.00   sec  11.2 MBytes  94.3 Mbits/sec    0   1.50 MBytes       \n",
      "[  5]   5.00-6.00   sec  11.2 MBytes  94.4 Mbits/sec    0   1.50 MBytes       \n",
      "[  5]   6.00-7.00   sec  11.2 MBytes  94.4 Mbits/sec    0   1.50 MBytes       \n",
      "[  5]   7.00-8.00   sec  12.5 MBytes   105 Mbits/sec    0   1.50 MBytes       \n",
      "[  5]   8.00-9.00   sec  11.2 MBytes  94.4 Mbits/sec    0   1.50 MBytes       \n",
      "[  5]   9.00-10.00  sec  11.2 MBytes  94.4 Mbits/sec    0   1.50 MBytes       \n",
      "- - - - - - - - - - - - - - - - - - - - - - - - -\n",
      "[ ID] Interval           Transfer     Bitrate         Retr\n",
      "[  5]   0.00-10.00  sec   117 MBytes  98.5 Mbits/sec    0             sender\n",
      "[  5]   0.00-10.02  sec   114 MBytes  95.7 Mbits/sec                  receiver\n",
      "\n",
      "iperf Done.\n"
     ]
    }
   ],
   "source": [
    "iperf3 -c 172.17.0.2 -p 8080 -t 10"
   ]
  },
  {
   "attachments": {},
   "cell_type": "markdown",
   "metadata": {},
   "source": [
    "After an initial burst to 125 Mbits/sec, the bandwidth is limited to 100 Mbits/sec as configured on the class `1:1`."
   ]
  },
  {
   "attachments": {},
   "cell_type": "markdown",
   "metadata": {},
   "source": [
    "## Cleanup"
   ]
  },
  {
   "cell_type": "code",
   "execution_count": 6,
   "metadata": {
    "vscode": {
     "languageId": "shellscript"
    }
   },
   "outputs": [],
   "source": [
    "tc qdisc del dev eth0 root"
   ]
  },
  {
   "attachments": {},
   "cell_type": "markdown",
   "metadata": {},
   "source": [
    "Once the `root` qdisc has been deleted, the bandwidth goes back to the baseline."
   ]
  },
  {
   "cell_type": "code",
   "execution_count": 7,
   "metadata": {
    "vscode": {
     "languageId": "shellscript"
    }
   },
   "outputs": [
    {
     "name": "stdout",
     "output_type": "stream",
     "text": [
      "Connecting to host 172.17.0.2, port 8080\n",
      "[  5] local 172.17.0.3 port 52018 connected to 172.17.0.2 port 8080\n",
      "[ ID] Interval           Transfer     Bitrate         Retr  Cwnd\n",
      "[  5]   0.00-1.00   sec  1.94 GBytes  16.6 Gbits/sec    0    639 KBytes       \n",
      "[  5]   1.00-2.00   sec  1.19 GBytes  10.3 Gbits/sec    6   4.75 MBytes       \n",
      "[  5]   2.00-3.00   sec  1.93 GBytes  16.6 Gbits/sec    0   4.75 MBytes       \n",
      "[  5]   3.00-4.00   sec  2.06 GBytes  17.7 Gbits/sec    0   4.75 MBytes       \n",
      "[  5]   4.00-5.00   sec  1.61 GBytes  13.8 Gbits/sec    0   4.75 MBytes       \n",
      "[  5]   5.00-6.00   sec  2.04 GBytes  17.5 Gbits/sec    0   4.75 MBytes       \n",
      "[  5]   6.00-7.00   sec  1.33 GBytes  11.4 Gbits/sec    0   4.75 MBytes       \n",
      "[  5]   7.00-8.00   sec  1.95 GBytes  16.8 Gbits/sec    0   4.75 MBytes       \n",
      "[  5]   8.00-9.00   sec  2.06 GBytes  17.7 Gbits/sec    0   4.75 MBytes       \n",
      "[  5]   9.00-10.00  sec  1.74 GBytes  14.9 Gbits/sec    0   4.75 MBytes       \n",
      "- - - - - - - - - - - - - - - - - - - - - - - - -\n",
      "[ ID] Interval           Transfer     Bitrate         Retr\n",
      "[  5]   0.00-10.00  sec  17.9 GBytes  15.3 Gbits/sec    6             sender\n",
      "[  5]   0.00-10.00  sec  17.9 GBytes  15.3 Gbits/sec                  receiver\n",
      "\n",
      "iperf Done.\n"
     ]
    }
   ],
   "source": [
    "iperf3 -c 172.17.0.2 -p 8080 -t 10"
   ]
  }
 ],
 "metadata": {
  "kernelspec": {
   "display_name": "Bash",
   "language": "bash",
   "name": "bash"
  },
  "language_info": {
   "codemirror_mode": "shell",
   "file_extension": ".sh",
   "mimetype": "text/x-sh",
   "name": "bash"
  },
  "orig_nbformat": 4
 },
 "nbformat": 4,
 "nbformat_minor": 2
}

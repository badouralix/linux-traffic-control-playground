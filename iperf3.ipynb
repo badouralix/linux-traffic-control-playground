{
 "cells": [
  {
   "attachments": {},
   "cell_type": "markdown",
   "metadata": {},
   "source": [
    "In another shell, start an `iperf3` server using the following command :\n",
    "\n",
    "```bash\n",
    "docker run -t --rm badouralix/toolbox iperf3 -s -p 8080\n",
    "```"
   ]
  },
  {
   "cell_type": "code",
   "execution_count": 1,
   "metadata": {},
   "outputs": [
    {
     "name": "stdout",
     "output_type": "stream",
     "text": [
      "Connecting to host 172.17.0.2, port 8080\n",
      "[  5] local 172.17.0.3 port 36656 connected to 172.17.0.2 port 8080\n",
      "[ ID] Interval           Transfer     Bitrate         Retr  Cwnd\n",
      "[  5]   0.00-1.00   sec  1.86 GBytes  16.0 Gbits/sec    0    639 KBytes       \n",
      "[  5]   1.00-2.00   sec  1.93 GBytes  16.6 Gbits/sec    0    639 KBytes       \n",
      "[  5]   2.00-3.00   sec  1.69 GBytes  14.5 Gbits/sec    0    639 KBytes       \n",
      "[  5]   3.00-4.00   sec  1.66 GBytes  14.3 Gbits/sec    0    639 KBytes       \n",
      "[  5]   4.00-5.00   sec  1.92 GBytes  16.5 Gbits/sec    0    639 KBytes       \n",
      "[  5]   5.00-6.00   sec  1.80 GBytes  15.5 Gbits/sec    0    639 KBytes       \n",
      "[  5]   6.00-7.00   sec  1.91 GBytes  16.4 Gbits/sec    0    639 KBytes       \n",
      "[  5]   7.00-8.00   sec  1.96 GBytes  16.8 Gbits/sec    0   7.99 MBytes       \n",
      "[  5]   8.00-9.00   sec  1.91 GBytes  16.4 Gbits/sec    0   7.99 MBytes       \n",
      "[  5]   9.00-10.00  sec  2.01 GBytes  17.2 Gbits/sec    0   7.99 MBytes       \n",
      "- - - - - - - - - - - - - - - - - - - - - - - - -\n",
      "[ ID] Interval           Transfer     Bitrate         Retr\n",
      "[  5]   0.00-10.00  sec  18.6 GBytes  16.0 Gbits/sec    0             sender\n",
      "[  5]   0.00-10.00  sec  18.6 GBytes  16.0 Gbits/sec                  receiver\n",
      "\n",
      "iperf Done.\n"
     ]
    }
   ],
   "source": [
    "!iperf3 -c 172.17.0.2 -p 8080 -t 10"
   ]
  }
 ],
 "metadata": {
  "kernelspec": {
   "display_name": "Python 3",
   "language": "python",
   "name": "python3"
  },
  "language_info": {
   "codemirror_mode": {
    "name": "ipython",
    "version": 3
   },
   "file_extension": ".py",
   "mimetype": "text/x-python",
   "name": "python",
   "nbconvert_exporter": "python",
   "pygments_lexer": "ipython3",
   "version": "3.9.2"
  },
  "orig_nbformat": 4
 },
 "nbformat": 4,
 "nbformat_minor": 2
}

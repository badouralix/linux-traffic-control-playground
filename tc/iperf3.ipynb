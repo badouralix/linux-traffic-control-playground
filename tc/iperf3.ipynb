{
 "cells": [
  {
   "attachments": {},
   "cell_type": "markdown",
   "metadata": {},
   "source": [
    "In another shell, start an `iperf3` server using the following command :\n",
    "\n",
    "```bash\n",
    "docker run -t --rm badouralix/toolbox iperf3 -s -p 8080\n",
    "```"
   ]
  },
  {
   "cell_type": "code",
   "execution_count": 1,
   "metadata": {
    "vscode": {
     "languageId": "shellscript"
    }
   },
   "outputs": [
    {
     "name": "stdout",
     "output_type": "stream",
     "text": [
      "Connecting to host 172.17.0.2, port 8080\n",
      "[  5] local 172.17.0.3 port 58406 connected to 172.17.0.2 port 8080\n",
      "[ ID] Interval           Transfer     Bitrate         Retr  Cwnd\n",
      "[  5]   0.00-1.00   sec  1.79 GBytes  15.4 Gbits/sec    0    639 KBytes       \n",
      "[  5]   1.00-2.00   sec  1.88 GBytes  16.2 Gbits/sec    0    639 KBytes       \n",
      "[  5]   2.00-3.00   sec  1.95 GBytes  16.8 Gbits/sec    0    639 KBytes       \n",
      "[  5]   3.00-4.00   sec  1.89 GBytes  16.2 Gbits/sec    0    639 KBytes       \n",
      "[  5]   4.00-5.00   sec  1.76 GBytes  15.1 Gbits/sec    0    639 KBytes       \n",
      "[  5]   5.00-6.00   sec  1.91 GBytes  16.4 Gbits/sec    0    639 KBytes       \n",
      "[  5]   6.00-7.00   sec  1.97 GBytes  17.0 Gbits/sec    0    639 KBytes       \n",
      "[  5]   7.00-8.00   sec  1.82 GBytes  15.6 Gbits/sec    0    639 KBytes       \n",
      "[  5]   8.00-9.00   sec  1.84 GBytes  15.8 Gbits/sec    0    639 KBytes       \n",
      "[  5]   9.00-10.00  sec  1.72 GBytes  14.8 Gbits/sec    0    639 KBytes       \n",
      "- - - - - - - - - - - - - - - - - - - - - - - - -\n",
      "[ ID] Interval           Transfer     Bitrate         Retr\n",
      "[  5]   0.00-10.00  sec  18.6 GBytes  15.9 Gbits/sec    0             sender\n",
      "[  5]   0.00-10.01  sec  18.6 GBytes  15.9 Gbits/sec                  receiver\n",
      "\n",
      "iperf Done.\n"
     ]
    }
   ],
   "source": [
    "iperf3 -c 172.17.0.2 -p 8080 -t 10"
   ]
  }
 ],
 "metadata": {
  "kernelspec": {
   "display_name": "Bash",
   "language": "bash",
   "name": "bash"
  },
  "language_info": {
   "codemirror_mode": "shell",
   "file_extension": ".sh",
   "mimetype": "text/x-sh",
   "name": "bash"
  },
  "orig_nbformat": 4
 },
 "nbformat": 4,
 "nbformat_minor": 2
}

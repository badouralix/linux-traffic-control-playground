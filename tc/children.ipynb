{
 "cells": [
  {
   "attachments": {},
   "cell_type": "markdown",
   "metadata": {},
   "source": [
    "Start multiple instances of `iperf3` in parallel :\n",
    "\n",
    "```bash\n",
    "docker run -t --rm badouralix/toolbox parallel --ungroup --jobs 2 iperf3 -s -p {} ::: 8080 8081\n",
    "```\n",
    "\n",
    "More info on this command in <https://www.baeldung.com/linux/processing-commands-in-parallel#using-gnu-parallel>."
   ]
  },
  {
   "attachments": {},
   "cell_type": "markdown",
   "metadata": {},
   "source": [
    "## Setup\n",
    "\n",
    "The goal is to implement the following tree.\n",
    "\n",
    "```mermaid\n",
    "graph LR\n",
    "    A(\"kernel\")\n",
    "    B((\"1:0\\nroot\"))\n",
    "    A <-- \"if dport == 8080 -> 1:80\\nif dport == 8081 -> 1:81\" --> B\n",
    "    B  --> C((\"1:1\\nclass:\\n100mbits (htb)\"))\n",
    "    C  --> D((\"1:80\\nclass:\\n80mbits (htb)\"))\n",
    "    C  --> E((\"1:81\\nclass:\\n80mbits (htb)\"))\n",
    "```"
   ]
  },
  {
   "cell_type": "code",
   "execution_count": 1,
   "metadata": {
    "vscode": {
     "languageId": "shellscript"
    }
   },
   "outputs": [
    {
     "name": "stdout",
     "output_type": "stream",
     "text": [
      "qdisc htb 1: root refcnt 2 r2q 10 default 0x30 direct_packets_stat 0 direct_qlen 1000\n"
     ]
    }
   ],
   "source": [
    "tc qdisc add dev eth0 root handle 1:0 htb default 30\n",
    "tc qdisc show dev eth0"
   ]
  },
  {
   "cell_type": "code",
   "execution_count": 2,
   "metadata": {
    "vscode": {
     "languageId": "shellscript"
    }
   },
   "outputs": [
    {
     "name": "stdout",
     "output_type": "stream",
     "text": [
      "class htb 1:80 parent 1:1 prio 0 rate 5Mbit ceil 80Mbit burst 1600b cburst 1600b \n",
      "class htb 1:81 parent 1:1 prio 0 rate 5Mbit ceil 80Mbit burst 1600b cburst 1600b \n",
      "class htb 1:1 root rate 100Mbit ceil 100Mbit burst 1600b cburst 1600b \n"
     ]
    }
   ],
   "source": [
    "tc class add dev eth0 parent 1:0 classid 1:1 htb rate 100mbit\n",
    "tc class add dev eth0 parent 1:1 classid 1:80 htb rate 5mbit ceil 80mbit\n",
    "tc class add dev eth0 parent 1:1 classid 1:81 htb rate 5mbit ceil 80mbit\n",
    "tc class show dev eth0"
   ]
  },
  {
   "attachments": {},
   "cell_type": "markdown",
   "metadata": {},
   "source": [
    "We want to match the traffic going to `dst 172.16.0.0/12` : `match ip dst 172.16.0.0/12`.\n",
    "And we also want to match the traffic going to port `8080` : `match ip dport 8080 0xffff`. Here the destination port is `8080` and the mask is `0xffff` meaning only one port. See <https://serverfault.com/a/231894>.\n",
    "\n",
    "More info on this in <https://tldp.org/HOWTO/Adv-Routing-HOWTO/lartc.qdisc.filters.html>."
   ]
  },
  {
   "cell_type": "code",
   "execution_count": 3,
   "metadata": {
    "vscode": {
     "languageId": "shellscript"
    }
   },
   "outputs": [
    {
     "name": "stdout",
     "output_type": "stream",
     "text": [
      "filter parent 1: protocol ip pref 1 u32 chain 0 \n",
      "filter parent 1: protocol ip pref 1 u32 chain 0 fh 800: ht divisor 1 \n",
      "filter parent 1: protocol ip pref 1 u32 chain 0 fh 800::800 order 2048 key ht 800 bkt 0 flowid 1:80 not_in_hw \n",
      "  match ac100000/fff00000 at 16\n",
      "  match 00001f90/0000ffff at 20\n",
      "filter parent 1: protocol ip pref 1 u32 chain 0 fh 800::801 order 2049 key ht 800 bkt 0 flowid 1:81 not_in_hw \n",
      "  match ac100000/fff00000 at 16\n",
      "  match 00001f91/0000ffff at 20\n"
     ]
    }
   ],
   "source": [
    "tc filter add dev eth0 protocol ip parent 1:0 prio 1 u32 match ip dst 172.16.0.0/12 match ip dport 8080 0xffff flowid 1:80\n",
    "tc filter add dev eth0 protocol ip parent 1:0 prio 1 u32 match ip dst 172.16.0.0/12 match ip dport 8081 0xffff flowid 1:81\n",
    "tc filter show dev eth0"
   ]
  },
  {
   "attachments": {},
   "cell_type": "markdown",
   "metadata": {},
   "source": [
    "## Experiments"
   ]
  },
  {
   "attachments": {},
   "cell_type": "markdown",
   "metadata": {},
   "source": [
    "### Single client\n",
    "\n",
    "Here below we validate that the initial setup is correct and that both port `8080` and port `8081` are limited to 80Mbits/sec."
   ]
  },
  {
   "cell_type": "code",
   "execution_count": 4,
   "metadata": {
    "vscode": {
     "languageId": "shellscript"
    }
   },
   "outputs": [
    {
     "name": "stdout",
     "output_type": "stream",
     "text": [
      "Connecting to host 172.17.0.2, port 8080\n",
      "[  5] local 172.17.0.3 port 51474 connected to 172.17.0.2 port 8080\n",
      "[ ID] Interval           Transfer     Bitrate         Retr  Cwnd\n",
      "[  5]   0.00-1.00   sec  12.4 MBytes   104 Mbits/sec    0   1.50 MBytes       \n",
      "[  5]   1.00-2.00   sec  8.75 MBytes  73.4 Mbits/sec    0   1.50 MBytes       \n",
      "[  5]   2.00-3.00   sec  10.0 MBytes  83.9 Mbits/sec    0   1.50 MBytes       \n",
      "[  5]   3.00-4.00   sec  8.75 MBytes  73.4 Mbits/sec    0   1.50 MBytes       \n",
      "[  5]   4.00-5.00   sec  10.0 MBytes  83.9 Mbits/sec    0   1.50 MBytes       \n",
      "[  5]   5.00-6.00   sec  8.75 MBytes  73.4 Mbits/sec    0   1.50 MBytes       \n",
      "[  5]   6.00-7.00   sec  8.75 MBytes  73.4 Mbits/sec    0   1.50 MBytes       \n",
      "[  5]   7.00-8.00   sec  10.0 MBytes  83.9 Mbits/sec    0   1.50 MBytes       \n",
      "[  5]   8.00-9.00   sec  8.75 MBytes  73.4 Mbits/sec    0   1.50 MBytes       \n",
      "[  5]   9.00-10.00  sec  10.0 MBytes  83.9 Mbits/sec    0   1.50 MBytes       \n",
      "- - - - - - - - - - - - - - - - - - - - - - - - -\n",
      "[ ID] Interval           Transfer     Bitrate         Retr\n",
      "[  5]   0.00-10.00  sec  96.2 MBytes  80.7 Mbits/sec    0             sender\n",
      "[  5]   0.00-10.02  sec  92.7 MBytes  77.6 Mbits/sec                  receiver\n",
      "\n",
      "iperf Done.\n"
     ]
    }
   ],
   "source": [
    "iperf3 -c 172.17.0.2 -p 8080 -t 10"
   ]
  },
  {
   "cell_type": "code",
   "execution_count": 5,
   "metadata": {
    "vscode": {
     "languageId": "shellscript"
    }
   },
   "outputs": [
    {
     "name": "stdout",
     "output_type": "stream",
     "text": [
      "Connecting to host 172.17.0.2, port 8081\n",
      "[  5] local 172.17.0.3 port 38812 connected to 172.17.0.2 port 8081\n",
      "[ ID] Interval           Transfer     Bitrate         Retr  Cwnd\n",
      "[  5]   0.00-1.00   sec  12.3 MBytes   103 Mbits/sec    0   1.37 MBytes       \n",
      "[  5]   1.00-2.00   sec  10.0 MBytes  83.9 Mbits/sec    0   1.37 MBytes       \n",
      "[  5]   2.00-3.00   sec  8.75 MBytes  73.4 Mbits/sec    0   1.37 MBytes       \n",
      "[  5]   3.00-4.00   sec  10.0 MBytes  83.9 Mbits/sec    0   1.37 MBytes       \n",
      "[  5]   4.00-5.00   sec  8.75 MBytes  73.4 Mbits/sec    0   1.37 MBytes       \n",
      "[  5]   5.00-6.00   sec  8.75 MBytes  73.4 Mbits/sec    0   1.37 MBytes       \n",
      "[  5]   6.00-7.00   sec  10.0 MBytes  83.9 Mbits/sec    0   1.37 MBytes       \n",
      "[  5]   7.00-8.00   sec  8.75 MBytes  73.4 Mbits/sec    0   1.37 MBytes       \n",
      "[  5]   8.00-9.00   sec  10.0 MBytes  83.9 Mbits/sec    0   1.37 MBytes       \n",
      "[  5]   9.00-10.00  sec  8.75 MBytes  73.4 Mbits/sec    0   1.37 MBytes       \n",
      "- - - - - - - - - - - - - - - - - - - - - - - - -\n",
      "[ ID] Interval           Transfer     Bitrate         Retr\n",
      "[  5]   0.00-10.00  sec  96.0 MBytes  80.6 Mbits/sec    0             sender\n",
      "[  5]   0.00-10.02  sec  93.3 MBytes  78.1 Mbits/sec                  receiver\n",
      "\n",
      "iperf Done.\n"
     ]
    }
   ],
   "source": [
    "iperf3 -c 172.17.0.2 -p 8081 -t 10"
   ]
  },
  {
   "attachments": {},
   "cell_type": "markdown",
   "metadata": {},
   "source": [
    "### Parallel clients\n",
    "\n",
    "Now we run two clients in parallel, and we expect the total bandwidth to be limited to 100Mbits/sec as per the rate on the class `1:1`."
   ]
  },
  {
   "cell_type": "code",
   "execution_count": 6,
   "metadata": {
    "vscode": {
     "languageId": "shellscript"
    }
   },
   "outputs": [
    {
     "name": "stdout",
     "output_type": "stream",
     "text": [
      "port 8080 |\tConnecting to host 172.17.0.2, port 8080\n",
      "port 8080 |\t[  5] local 172.17.0.3 port 40310 connected to 172.17.0.2 port 8080\n",
      "port 8080 |\t[ ID] Interval           Transfer     Bitrate         Retr  Cwnd\n",
      "port 8080 |\t[  5]   0.00-1.00   sec  8.69 MBytes  72.8 Mbits/sec    0   1.37 MBytes       \n",
      "port 8080 |\t[  5]   1.00-2.00   sec  6.25 MBytes  52.5 Mbits/sec    0   1.37 MBytes       \n",
      "port 8080 |\t[  5]   2.00-3.00   sec  5.00 MBytes  41.9 Mbits/sec    0   1.37 MBytes       \n",
      "port 8080 |\t[  5]   3.00-4.00   sec  6.25 MBytes  52.4 Mbits/sec    0   1.37 MBytes       \n",
      "port 8080 |\t[  5]   4.00-5.00   sec  6.25 MBytes  52.4 Mbits/sec    0   1.37 MBytes       \n",
      "port 8080 |\t[  5]   5.00-6.00   sec  5.00 MBytes  41.9 Mbits/sec    0   1.37 MBytes       \n",
      "port 8080 |\t[  5]   6.00-7.00   sec  6.25 MBytes  52.4 Mbits/sec    0   1.37 MBytes       \n",
      "port 8080 |\t[  5]   7.00-8.00   sec  5.00 MBytes  41.9 Mbits/sec    0   1.37 MBytes       \n",
      "port 8080 |\t[  5]   8.00-9.00   sec  6.25 MBytes  52.4 Mbits/sec    0   1.37 MBytes       \n",
      "port 8080 |\t[  5]   9.00-10.00  sec  5.00 MBytes  41.9 Mbits/sec    0   1.37 MBytes       \n",
      "port 8080 |\t- - - - - - - - - - - - - - - - - - - - - - - - -\n",
      "port 8080 |\t[ ID] Interval           Transfer     Bitrate         Retr\n",
      "port 8080 |\t[  5]   0.00-10.00  sec  59.9 MBytes  50.3 Mbits/sec    0             sender\n",
      "port 8080 |\t[  5]   0.00-10.02  sec  57.5 MBytes  48.1 Mbits/sec                  receiver\n",
      "port 8080 |\t\n",
      "port 8080 |\tiperf Done.\n",
      "port 8081 |\tConnecting to host 172.17.0.2, port 8081\n",
      "port 8081 |\t[  5] local 172.17.0.3 port 35500 connected to 172.17.0.2 port 8081\n",
      "port 8081 |\t[ ID] Interval           Transfer     Bitrate         Retr  Cwnd\n",
      "port 8081 |\t[  5]   0.00-1.00   sec  8.69 MBytes  72.8 Mbits/sec    0   1.37 MBytes       \n",
      "port 8081 |\t[  5]   1.00-2.00   sec  6.25 MBytes  52.4 Mbits/sec    0   1.37 MBytes       \n",
      "port 8081 |\t[  5]   2.00-3.00   sec  5.00 MBytes  41.9 Mbits/sec    0   1.37 MBytes       \n",
      "port 8081 |\t[  5]   3.00-4.00   sec  6.25 MBytes  52.4 Mbits/sec    0   1.37 MBytes       \n",
      "port 8081 |\t[  5]   4.00-5.00   sec  5.00 MBytes  41.9 Mbits/sec    0   1.37 MBytes       \n",
      "port 8081 |\t[  5]   5.00-6.00   sec  6.25 MBytes  52.5 Mbits/sec    0   1.37 MBytes       \n",
      "port 8081 |\t[  5]   6.00-7.00   sec  6.25 MBytes  52.4 Mbits/sec    0   1.37 MBytes       \n",
      "port 8081 |\t[  5]   7.00-8.00   sec  5.00 MBytes  41.9 Mbits/sec    0   1.37 MBytes       \n",
      "port 8081 |\t[  5]   8.00-9.00   sec  6.25 MBytes  52.4 Mbits/sec    0   1.37 MBytes       \n",
      "port 8081 |\t[  5]   9.00-10.00  sec  5.00 MBytes  41.9 Mbits/sec    0   1.37 MBytes       \n",
      "port 8081 |\t- - - - - - - - - - - - - - - - - - - - - - - - -\n",
      "port 8081 |\t[ ID] Interval           Transfer     Bitrate         Retr\n",
      "port 8081 |\t[  5]   0.00-10.00  sec  59.9 MBytes  50.3 Mbits/sec    0             sender\n",
      "port 8081 |\t[  5]   0.00-10.03  sec  57.3 MBytes  48.0 Mbits/sec                  receiver\n",
      "port 8081 |\t\n",
      "port 8081 |\tiperf Done.\n"
     ]
    }
   ],
   "source": [
    "parallel --tagstring \"port {} |\" --jobs 2 iperf3 -c 172.17.0.2 -p {} -t 10 ::: 8080 8081"
   ]
  },
  {
   "attachments": {},
   "cell_type": "markdown",
   "metadata": {},
   "source": [
    "## Cleanup"
   ]
  },
  {
   "cell_type": "code",
   "execution_count": 7,
   "metadata": {
    "vscode": {
     "languageId": "shellscript"
    }
   },
   "outputs": [
    {
     "name": "stdout",
     "output_type": "stream",
     "text": [
      "qdisc noqueue 0: root refcnt 2 \n"
     ]
    }
   ],
   "source": [
    "tc qdisc del dev eth0 root\n",
    "tc qdisc show dev eth0"
   ]
  }
 ],
 "metadata": {
  "kernelspec": {
   "display_name": "Bash",
   "language": "bash",
   "name": "bash"
  },
  "language_info": {
   "codemirror_mode": "shell",
   "file_extension": ".sh",
   "mimetype": "text/x-sh",
   "name": "bash"
  },
  "orig_nbformat": 4
 },
 "nbformat": 4,
 "nbformat_minor": 2
}
